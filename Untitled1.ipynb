{
  "nbformat": 4,
  "nbformat_minor": 0,
  "metadata": {
    "colab": {
      "name": "Untitled1.ipynb",
      "version": "0.3.2",
      "provenance": [],
      "include_colab_link": true
    },
    "kernelspec": {
      "name": "python3",
      "display_name": "Python 3"
    }
  },
  "cells": [
    {
      "cell_type": "markdown",
      "metadata": {
        "id": "view-in-github",
        "colab_type": "text"
      },
      "source": [
        "<a href=\"https://colab.research.google.com/github/pranitanawande/pranitanawande/blob/master/Untitled1.ipynb\" target=\"_parent\"><img src=\"https://colab.research.google.com/assets/colab-badge.svg\" alt=\"Open In Colab\"/></a>"
      ]
    },
    {
      "cell_type": "code",
      "metadata": {
        "id": "3sRRx3lGJffr",
        "colab_type": "code",
        "colab": {
          "base_uri": "https://localhost:8080/",
          "height": 51
        },
        "outputId": "3317e4f0-2188-4b4a-ec57-e0225ecc97fe"
      },
      "source": [
        "import numpy as np\n",
        "from statistics import mean\n",
        "\n",
        "def best_fit_line(x, y):\n",
        "    m = ( mean(x * y) - (mean(x) * mean(y)) ) / ( mean(x ** 2) - (mean(x) ** 2) )\n",
        "    b = mean(y) - m * mean(x)\n",
        "    return m, b\n",
        "\n",
        "charged = list()\n",
        "lasted = list()\n",
        "\n",
        "data= [\"2.81,5.62\", \"7.14,8.00\", \"2.72,5.44\", \"3.87,7.74\", \"1.90,3.80\", \n",
        "       \"7.82,8.00\", \"7.02,8.00\", \"5.50,8.00\", \"9.15,8.00\", \"4.87,8.00\", \n",
        "       \"8.08,8.00\", \"5.58,8.00\", \"9.13,8.00\", \"0.14,0.28\", \"2.00,4.00\", \n",
        "       \"5.47,8.00\", \"0.80,1.60\", \"4.37,8.00\", \"5.31,8.00\", \"0.00,0.00\", \n",
        "       \"1.78,3.56\", \"3.45,6.90\", \"6.13,8.00\", \"3.53,7.06\", \"4.61,8.00\", \n",
        "       \"1.76,3.52\", \"6.39,8.00\", \"0.02,0.04\", \"9.69,8.00\", \"5.33,8.00\", \n",
        "       \"6.37,8.00\", \"5.55,8.00\", \"7.80,8.00\", \"2.06,4.12\", \"7.79,8.00\", \n",
        "       \"2.24,4.48\", \"9.71,8.00\", \"1.11,2.22\", \"8.38,8.00\", \"2.33,4.66\", \n",
        "       \"1.83,3.66\", \"5.94,8.00\", \"9.20,8.00\", \"1.14,2.28\", \"4.15,8.00\", \n",
        "       \"8.43,8.00\", \"5.68,8.00\", \"8.21,8.00\", \"1.75,3.50\", \"2.16,4.32\", \n",
        "       \"4.93,8.00\", \"5.75,8.00\", \"1.26,2.52\", \"3.97,7.94\", \"4.39,8.00\", \n",
        "       \"7.53,8.00\", \"1.98,3.96\", \"1.66,3.32\", \"2.04,4.08\", \"11.72,8.00\", \n",
        "       \"4.64,8.00\", \"4.71,8.00\", \"3.77,7.54\", \"9.33,8.00\", \"1.83,3.66\",\n",
        "       \"2.15,4.30\", \"1.58,3.16\", \"9.29,8.00\", \"1.27,2.54\", \"8.49,8.00\", \n",
        "       \"5.39,8.00\", \"3.47,6.94\", \"6.48,8.00\", \"4.11,8.00\", \"1.85,3.70\", \n",
        "       \"8.79,8.00\", \"0.13,0.26\", \"1.44,2.88\", \"5.96,8.00\", \"3.42,6.84\", \n",
        "       \"1.89,3.78\", \"1.98,3.96\", \"5.26,8.00\", \"0.39,0.78\", \"6.05,8.00\", \n",
        "       \"1.99,3.98\", \"1.58,3.16\", \"3.99,7.98\", \"4.35,8.00\", \"6.71,8.00\", \n",
        "       \"2.58,5.16\", \"7.37,8.00\", \"5.77,8.00\", \"3.97,7.94\", \"3.65,7.30\", \n",
        "       \"4.38,8.00\", \"8.06,8.00\", \"8.05,8.00\", \"1.10,2.20\", \"6.65,8.00\"]\n",
        "\n",
        "for line in data:\n",
        "    fields = line.split(',')\n",
        "    if float(fields[0]) <= 4.00:\n",
        "            charged.append(float(fields[0]))\n",
        "            lasted.append(float(fields[1][: 4]))\n",
        "\n",
        "            \n",
        "charged = np.array(charged)\n",
        "lasted = np.array(lasted)\n",
        "\n",
        "m, b = best_fit_line(charged, lasted)\n",
        "\n",
        "n = float(input())\n",
        "if n > 4.00:\n",
        "    print(8.00)\n",
        "else:\n",
        "    print(m * n + b)\n"
      ],
      "execution_count": 1,
      "outputs": [
        {
          "output_type": "stream",
          "text": [
            "1.5\n",
            "3.0\n"
          ],
          "name": "stdout"
        }
      ]
    }
  ]
}